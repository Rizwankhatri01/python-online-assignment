{
 "cells": [
  {
   "cell_type": "code",
   "execution_count": 3,
   "metadata": {
    "trusted": true
   },
   "outputs": [
    {
     "name": "stdout",
     "output_type": "stream",
     "text": [
      "Twinkle, twinkle, little star,\n\t How I wonder what you are!\n\t\t Up above the world so high,\n\t\t Like a diamond in the sky.\nTwinkle, twinkle, little star\n\t How I wonder what you are!\n"
     ]
    }
   ],
   "source": [
    "#1. Write a Python program to print the following string in a specific format (see the output):\n",
    "print(\"Twinkle, twinkle, little star,\\n\\t How I wonder what you are!\\n\\t\\t Up above the world so high,\\n\\t\\t Like a diamond in the sky.\\nTwinkle, twinkle, little star\\n\\t How I wonder what you are!\");"
   ]
  },
  {
   "cell_type": "code",
   "execution_count": 4,
   "metadata": {
    "trusted": true
   },
   "outputs": [
    {
     "name": "stdout",
     "output_type": "stream",
     "text": [
      "Python version is:\n3.7.8 | packaged by conda-forge | (default, Nov 17 2020, 23:42:15) \n[GCC 7.5.0]\nVersion information is:\nsys.version_info(major=3, minor=7, micro=8, releaselevel='final', serial=0)\n"
     ]
    }
   ],
   "source": [
    "#2. Write a Python program to get the Python version you are using:\n",
    "import sys\n",
    "print(\"Python version is:\")\n",
    "print (sys.version);\n",
    "print(\"Version information is:\")\n",
    "print (sys.version_info);"
   ]
  },
  {
   "cell_type": "code",
   "execution_count": 6,
   "metadata": {
    "trusted": true
   },
   "outputs": [
    {
     "name": "stdout",
     "output_type": "stream",
     "text": [
      "Current date and time : \n2021-10-24 05:38:54\n"
     ]
    }
   ],
   "source": [
    "#3. Write a Python program to display the current date and time.\n",
    "import datetime\n",
    "exact=datetime.datetime.now()\n",
    "print (\"Current date and time : \");\n",
    "print (exact.strftime(\"%Y-%m-%d %H:%M:%S\"));"
   ]
  },
  {
   "cell_type": "code",
   "execution_count": 9,
   "metadata": {
    "trusted": true
   },
   "outputs": [
    {
     "name": "stdin",
     "output_type": "stream",
     "text": [
      "Write the radius of circle: \n 6\n"
     ]
    },
    {
     "name": "stdout",
     "output_type": "stream",
     "text": [
      "The Area of the Circle having radius 6 is: 113.09724 square units.\n"
     ]
    }
   ],
   "source": [
    "#4. Write a Python program which accepts the radius of a circle from the user and compute the area.\n",
    "inp=int(input(\"Write the radius of circle: \\n\"))\n",
    "Area=3.14159*(inp*inp)\n",
    "print(f\"The Area of the Circle having radius {inp} is: {Area} square units.\");"
   ]
  },
  {
   "cell_type": "code",
   "execution_count": 14,
   "metadata": {
    "trusted": true
   },
   "outputs": [
    {
     "name": "stdin",
     "output_type": "stream",
     "text": [
      "Kindly enter your first name:\n Rizwan\nKindly enter your last name:\n Khatri\n"
     ]
    },
    {
     "name": "stdout",
     "output_type": "stream",
     "text": [
      "The reverse order of your name is \n Khatri Rizwan\n"
     ]
    }
   ],
   "source": [
    "#5. Write a Python program which accepts the user's first and last name and print them in reverse order with a space between them.\n",
    "n1=str(input(\"Kindly enter your first name:\\n\"))\n",
    "n2=str(input(\"Kindly enter your last name:\\n\"))\n",
    "print(f\"The reverse order of your name is \\n {n2} {n1}\");"
   ]
  },
  {
   "cell_type": "code",
   "execution_count": 16,
   "metadata": {
    "trusted": true
   },
   "outputs": [
    {
     "name": "stdin",
     "output_type": "stream",
     "text": [
      "Enter first number: \n 10\nEnter second number: \n 12\n"
     ]
    },
    {
     "name": "stdout",
     "output_type": "stream",
     "text": [
      "The addition of two numbers are: 22\n"
     ]
    }
   ],
   "source": [
    "#6. Write a python program which takes two inputs from user and print them addition:\n",
    "i1=int(input(\"Enter first number: \\n\"))\n",
    "i2=int(input(\"Enter second number: \\n\"))\n",
    "op=i1+i2;\n",
    "print(f\"The addition of two numbers are: {op}\");"
   ]
  },
  {
   "cell_type": "code",
   "execution_count": 1,
   "metadata": {
    "trusted": true
   },
   "outputs": [
    {
     "name": "stdin",
     "output_type": "stream",
     "text": [
      "Enter your English Marks Out of 100:  85\nEnter your Mathematics Marks Marks Out of 100:  75\nEnter your Chemistry Marks Marks Out of 100:  85\nEnter your Physics Marks Marks Out of 100:  80\nEnter your Urdu Marks Marks Out of 100:  90\n"
     ]
    },
    {
     "name": "stdout",
     "output_type": "stream",
     "text": [
      "You got A+ and your percentage is 83.0%\n"
     ]
    }
   ],
   "source": [
    "#7. Write a program which takes 5 inputs from user for different subject’s marks, total it and generate mark sheet using grades?\n",
    "a1=int(input(\"Enter your English Marks Out of 100: \"))\n",
    "a2=int(input(\"Enter your Mathematics Marks Marks Out of 100: \"))\n",
    "a3=int(input(\"Enter your Chemistry Marks Marks Out of 100: \"))\n",
    "a4=int(input(\"Enter your Physics Marks Marks Out of 100: \"))\n",
    "a5=int(input(\"Enter your Urdu Marks Marks Out of 100: \"))\n",
    "tot=a1+a2+a3+a4+a5\n",
    "p=(tot/500)*100\n",
    "#CONDITIONAL STATEMENTS FOR GRADES\n",
    "if p>100 or p<0:\n",
    "    print(\"Please write between +0<-->+100\")\n",
    "elif p<=100 and p>80:\n",
    "    print(f\"You got A+ and your percentage is {p}%\")\n",
    "elif p < 80 and p > 70:\n",
    "    print(f\"You got A and your percentage is {p}%\")\n",
    "elif p < 70 and p > 60:\n",
    "    print(f\"You got B and your percentage is {p}%\")\n",
    "elif p < 60 and p > 50:\n",
    "    print(f\"You got C\")\n",
    "elif p < 50 and p > 40:\n",
    "    print(f\"You got D and your percentage is {p}%\")\n",
    "else:\n",
    "    print(\"Sorry! You are Failed..\")\n"
   ]
  },
  {
   "cell_type": "code",
   "execution_count": 5,
   "metadata": {
    "trusted": true
   },
   "outputs": [
    {
     "name": "stdin",
     "output_type": "stream",
     "text": [
      "Enter a number: \n 5\n"
     ]
    },
    {
     "name": "stdout",
     "output_type": "stream",
     "text": [
      "Given number is odd\n"
     ]
    }
   ],
   "source": [
    "#8. Write a program which take input from user and identify that the given number is even or odd?\n",
    "n1=int(input(\"Enter a number: \\n\"))\n",
    "op=n1 % 2;\n",
    "if(op==0):\n",
    "    print(\"Given number is even\")\n",
    "else:\n",
    "    print(\"Given number is odd\")"
   ]
  },
  {
   "cell_type": "code",
   "execution_count": 11,
   "metadata": {
    "trusted": true
   },
   "outputs": [
    {
     "name": "stdout",
     "output_type": "stream",
     "text": [
      "Given list is:  [1, 2, 3, 4, 5, 6, 7, 8, 9, 10]\nThe length of list is:  10\n"
     ]
    }
   ],
   "source": [
    "#9. Write a program which print the length of the list?\n",
    "l1=[1,2,3,4,5,6,7,8,9,10]\n",
    "print(\"Given list is: \",l1);\n",
    "\n",
    "print(\"The length of list is: \",len(l1));"
   ]
  },
  {
   "cell_type": "code",
   "execution_count": 15,
   "metadata": {
    "trusted": true
   },
   "outputs": [
    {
     "name": "stdout",
     "output_type": "stream",
     "text": [
      "Given list is:  [1, 2, 3, 4, 5, 6, 7, 8, 9, 10]\nThe sum of list is:  55\n"
     ]
    }
   ],
   "source": [
    "#10.Write a Python program to sum all the numeric items in a list?\n",
    "l1=[1,2,3,4,5,6,7,8,9,10]\n",
    "print(\"Given list is: \",l1);\n",
    "print(\"The sum of list is: \",sum(l1));"
   ]
  },
  {
   "cell_type": "code",
   "execution_count": 14,
   "metadata": {
    "trusted": true
   },
   "outputs": [
    {
     "name": "stdout",
     "output_type": "stream",
     "text": [
      "Given list is:  [1, 2, 3, 4, 5, 6, 7, 8, 9, 10]\nThe max number of list is:  10\n"
     ]
    }
   ],
   "source": [
    "#11.Write a Python program to get the largest number from a numeric list.\n",
    "l1=[1,2,3,4,5,6,7,8,9,10]\n",
    "print(\"Given list is: \",l1);\n",
    "print(\"The max number of list is: \",max(l1));"
   ]
  },
  {
   "cell_type": "code",
   "execution_count": 20,
   "metadata": {
    "trusted": true
   },
   "outputs": [
    {
     "name": "stdout",
     "output_type": "stream",
     "text": [
      "The numbers that are less than 5 are: \n 1 1 2 3\n"
     ]
    }
   ],
   "source": [
    "#Take a list, say for example this one: Write a program that prints out all the elements of the list that are less than 5.\n",
    "l1= [1, 1, 2, 3, 5, 8, 13, 21, 34, 55, 89]\n",
    "print(\"The numbers that are less than 5 are: \\n\",l1[0],l1[1],l1[2],l1[3]);\n"
   ]
  }
 ],
 "metadata": {
  "orig_nbformat": 4.0,
  "language_info": {
   "name": "python",
   "version": "3.7.8",
   "mimetype": "text/x-python",
   "codemirror_mode": {
    "name": "ipython",
    "version": 3
   },
   "pygments_lexer": "ipython3",
   "nbconvert_exporter": "python",
   "file_extension": ".py"
  },
  "kernelspec": {
   "name": "python3",
   "display_name": "Python 3",
   "language": "python"
  }
 },
 "nbformat": 4,
 "nbformat_minor": 5
}
